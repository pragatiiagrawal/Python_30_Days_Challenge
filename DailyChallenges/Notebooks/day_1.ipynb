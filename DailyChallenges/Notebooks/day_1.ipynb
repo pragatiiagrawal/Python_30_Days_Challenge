{
 "cells": [
  {
   "cell_type": "markdown",
   "metadata": {},
   "source": [
    "## 🇮🇳 INDIAN DATA CLUB (IDC)\n",
    "### 🐍 30 Days Of Python  \n",
    "# 🗓️ Day 0️⃣1️⃣: Introduction to Python  \n",
    "**Date:** 28 May, 2025\n",
    "\n",
    "---\n",
    "\n",
    "### 🎯 Challenge  "
   ]
  },
  {
   "cell_type": "code",
   "execution_count": 1,
   "metadata": {},
   "outputs": [],
   "source": [
    "# Write a program that prints \"Hello, World!\" followed by your name\n",
    "my_name = input(\"Please enter your name:\")"
   ]
  },
  {
   "cell_type": "code",
   "execution_count": 2,
   "metadata": {},
   "outputs": [
    {
     "name": "stdout",
     "output_type": "stream",
     "text": [
      "Hello, World! Pragati, kicking off the journey.\n"
     ]
    }
   ],
   "source": [
    "print(f'Hello, World! {my_name}, kicking off the journey.')"
   ]
  }
 ],
 "metadata": {
  "kernelspec": {
   "display_name": ".venv",
   "language": "python",
   "name": "python3"
  },
  "language_info": {
   "codemirror_mode": {
    "name": "ipython",
    "version": 3
   },
   "file_extension": ".py",
   "mimetype": "text/x-python",
   "name": "python",
   "nbconvert_exporter": "python",
   "pygments_lexer": "ipython3",
   "version": "3.13.0"
  }
 },
 "nbformat": 4,
 "nbformat_minor": 2
}
