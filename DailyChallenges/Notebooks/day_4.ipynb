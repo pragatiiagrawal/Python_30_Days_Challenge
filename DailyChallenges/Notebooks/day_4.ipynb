{
 "cells": [
  {
   "cell_type": "markdown",
   "metadata": {},
   "source": [
    " ## 🇮🇳 INDIAN DATA CLUB (IDC)\n",
    "### 🐍 30 Days Of Python  \n",
    "# 🗓️ Day 0️⃣4️⃣Learning: If-else, for/while, break/continue\n",
    "**Date:** 31 May, 2025\n",
    "\n",
    "---\n",
    "\n",
    "### 🎯 Challenge  "
   ]
  },
  {
   "cell_type": "code",
   "execution_count": 3,
   "metadata": {},
   "outputs": [
    {
     "name": "stdout",
     "output_type": "stream",
     "text": [
      "This is  a prime number.\n",
      "--------------------------------------------------\n",
      "This is neither prime nor composite number\n",
      "--------------------------------------------------\n",
      "This is composite number\n",
      "--------------------------------------------------\n",
      "This is composite number\n",
      "--------------------------------------------------\n",
      "This is  a prime number.\n",
      "--------------------------------------------------\n",
      "This is  a prime number.\n",
      "--------------------------------------------------\n",
      "This is  a prime number.\n",
      "--------------------------------------------------\n",
      "--- Exiting the Program ----\n"
     ]
    }
   ],
   "source": [
    "\n",
    "# Challenge: Write a program to check if a user-entered number is prime.\n",
    "# Prime Number: A number is a prime number if it is divisible by 1 and the number itself.\n",
    "\n",
    "while True:\n",
    "    user_input = input(\"Enter a digit or 'Exit' to quit the program.\\n\")\n",
    "    \n",
    "    if user_input.lower() == 'exit':\n",
    "        print(\"--- Exiting the Program ----\")\n",
    "        break\n",
    "    if not user_input.isdigit():\n",
    "        print(\"Invalid number! Please enter a valit number. \")\n",
    "        print(\"--------------------------------------------------\")\n",
    "        continue\n",
    "    num = int(user_input)\n",
    "    count = 0\n",
    "    for i in range (1,num+1):\n",
    "        if num % i == 0:\n",
    "            count +=1\n",
    "            if count > 2:\n",
    "                break\n",
    "    if count == 2:\n",
    "        print(\"This is  a prime number.\")\n",
    "        print(\"--------------------------------------------------\")\n",
    "    elif count == 1:\n",
    "        print(\"This is neither prime nor composite number\")\n",
    "        print(\"--------------------------------------------------\")\n",
    "    else:\n",
    "        print(\"This is composite number\")\n",
    "        print(\"--------------------------------------------------\")\n"
   ]
  }
 ],
 "metadata": {
  "kernelspec": {
   "display_name": ".venv",
   "language": "python",
   "name": "python3"
  },
  "language_info": {
   "codemirror_mode": {
    "name": "ipython",
    "version": 3
   },
   "file_extension": ".py",
   "mimetype": "text/x-python",
   "name": "python",
   "nbconvert_exporter": "python",
   "pygments_lexer": "ipython3",
   "version": "3.13.0"
  }
 },
 "nbformat": 4,
 "nbformat_minor": 2
}
