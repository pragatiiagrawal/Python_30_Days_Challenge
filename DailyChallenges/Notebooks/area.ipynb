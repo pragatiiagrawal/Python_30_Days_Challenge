{
 "cells": [
  {
   "cell_type": "markdown",
   "metadata": {},
   "source": [
    "## 🇮🇳 INDIAN DATA CLUB (IDC)\n",
    "### 🐍 30 Days Of Python  \n",
    "# 🗓️ Day 0️⃣2️⃣: Data Types and Typecasting  \n",
    "**Date:** 29 May, 2025\n",
    "\n",
    "---\n",
    "\n",
    "### 🎯 Challenge  "
   ]
  },
  {
   "cell_type": "code",
   "execution_count": 8,
   "metadata": {},
   "outputs": [
    {
     "name": "stdout",
     "output_type": "stream",
     "text": [
      "----Let's Calculate the area of rectangle!----\n"
     ]
    }
   ],
   "source": [
    "# Write a program that calculates the area of a rectangle using user-input length and width.\n",
    "print(\"----Let's Calculate the area of rectangle!----\")"
   ]
  },
  {
   "cell_type": "code",
   "execution_count": 9,
   "metadata": {},
   "outputs": [],
   "source": [
    "# Step-1 Taking input from the user\n",
    "# Step 2: input() returns a string, so use float() to convert it to a decimal.\n",
    "length = float(input(\"Enter the length of the rectangle in cm: \"))"
   ]
  },
  {
   "cell_type": "code",
   "execution_count": 10,
   "metadata": {},
   "outputs": [],
   "source": [
    "width = float(input(\"Enter the width of the rectangle in cm: \"))"
   ]
  },
  {
   "cell_type": "code",
   "execution_count": 11,
   "metadata": {},
   "outputs": [],
   "source": [
    "# Calculating area\n",
    "area = length * width\n"
   ]
  },
  {
   "cell_type": "code",
   "execution_count": 12,
   "metadata": {},
   "outputs": [
    {
     "name": "stdout",
     "output_type": "stream",
     "text": [
      "The area of the rectangle is 15.30 cm².\n"
     ]
    }
   ],
   "source": [
    "# f-string allows us to embedd expressions directly in the string.\n",
    "# \\u00B2 is the Unicode for superscript 2\n",
    "# .2f rounds the float to 2 decimal places.\n",
    "print(f\"The area of the rectangle is {area:.2f} cm\\u00B2.\")"
   ]
  }
 ],
 "metadata": {
  "kernelspec": {
   "display_name": ".venv",
   "language": "python",
   "name": "python3"
  },
  "language_info": {
   "codemirror_mode": {
    "name": "ipython",
    "version": 3
   },
   "file_extension": ".py",
   "mimetype": "text/x-python",
   "name": "python",
   "nbconvert_exporter": "python",
   "pygments_lexer": "ipython3",
   "version": "3.13.0"
  }
 },
 "nbformat": 4,
 "nbformat_minor": 2
}
